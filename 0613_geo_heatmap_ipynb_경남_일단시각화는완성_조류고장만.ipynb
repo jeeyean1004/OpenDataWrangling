{
  "nbformat": 4,
  "nbformat_minor": 0,
  "metadata": {
    "colab": {
      "name": "0613_geo_heatmap.ipynb_경남_일단시각화는완성_조류고장만",
      "version": "0.3.2",
      "provenance": [],
      "collapsed_sections": [],
      "include_colab_link": true
    },
    "language_info": {
      "codemirror_mode": {
        "name": "ipython",
        "version": 3
      },
      "file_extension": ".py",
      "mimetype": "text/x-python",
      "name": "python",
      "nbconvert_exporter": "python",
      "pygments_lexer": "ipython3",
      "version": "3.6.8"
    },
    "kernelspec": {
      "name": "python3",
      "display_name": "Python 3"
    },
    "accelerator": "GPU"
  },
  "cells": [
    {
      "cell_type": "markdown",
      "metadata": {
        "id": "view-in-github",
        "colab_type": "text"
      },
      "source": [
        "<a href=\"https://colab.research.google.com/github/jeeyean1004/OpenDataWrangling/blob/master/0613_geo_heatmap_ipynb_%EA%B2%BD%EB%82%A8_%EC%9D%BC%EB%8B%A8%EC%8B%9C%EA%B0%81%ED%99%94%EB%8A%94%EC%99%84%EC%84%B1_%EC%A1%B0%EB%A5%98%EA%B3%A0%EC%9E%A5%EB%A7%8C.ipynb\" target=\"_parent\"><img src=\"https://colab.research.google.com/assets/colab-badge.svg\" alt=\"Open In Colab\"/></a>"
      ]
    },
    {
      "cell_type": "code",
      "metadata": {
        "id": "tPGQH0Ip_q4b",
        "colab_type": "code",
        "outputId": "379f2dd8-d63d-45f2-cb6b-05a2bcc68491",
        "colab": {
          "base_uri": "https://localhost:8080/",
          "height": 125
        }
      },
      "source": [
        "from google.colab import drive\n",
        "\n",
        "drive.mount('/content/gdrive')"
      ],
      "execution_count": 0,
      "outputs": [
        {
          "output_type": "stream",
          "text": [
            "Go to this URL in a browser: https://accounts.google.com/o/oauth2/auth?client_id=947318989803-6bn6qk8qdgf4n4g3pfee6491hc0brc4i.apps.googleusercontent.com&redirect_uri=urn%3Aietf%3Awg%3Aoauth%3A2.0%3Aoob&scope=email%20https%3A%2F%2Fwww.googleapis.com%2Fauth%2Fdocs.test%20https%3A%2F%2Fwww.googleapis.com%2Fauth%2Fdrive%20https%3A%2F%2Fwww.googleapis.com%2Fauth%2Fdrive.photos.readonly%20https%3A%2F%2Fwww.googleapis.com%2Fauth%2Fpeopleapi.readonly&response_type=code\n",
            "\n",
            "Enter your authorization code:\n",
            "··········\n",
            "Mounted at /content/gdrive\n"
          ],
          "name": "stdout"
        }
      ]
    },
    {
      "cell_type": "code",
      "metadata": {
        "id": "upMZ7zwe_qiD",
        "colab_type": "code",
        "outputId": "a7370e8f-3982-4a8d-cabf-5b8d82b9cc96",
        "colab": {
          "base_uri": "https://localhost:8080/",
          "height": 422
        }
      },
      "source": [
        "pip install folium geopandas"
      ],
      "execution_count": 0,
      "outputs": [
        {
          "output_type": "stream",
          "text": [
            "Requirement already satisfied: folium in /usr/local/lib/python3.6/dist-packages (0.8.3)\n",
            "Requirement already satisfied: geopandas in /usr/local/lib/python3.6/dist-packages (0.5.0)\n",
            "Requirement already satisfied: six in /usr/local/lib/python3.6/dist-packages (from folium) (1.12.0)\n",
            "Requirement already satisfied: branca>=0.3.0 in /usr/local/lib/python3.6/dist-packages (from folium) (0.3.1)\n",
            "Requirement already satisfied: requests in /usr/local/lib/python3.6/dist-packages (from folium) (2.21.0)\n",
            "Requirement already satisfied: numpy in /usr/local/lib/python3.6/dist-packages (from folium) (1.16.3)\n",
            "Requirement already satisfied: jinja2 in /usr/local/lib/python3.6/dist-packages (from folium) (2.10.1)\n",
            "Requirement already satisfied: fiona in /usr/local/lib/python3.6/dist-packages (from geopandas) (1.8.6)\n",
            "Requirement already satisfied: shapely in /usr/local/lib/python3.6/dist-packages (from geopandas) (1.6.4.post2)\n",
            "Requirement already satisfied: pandas in /usr/local/lib/python3.6/dist-packages (from geopandas) (0.24.2)\n",
            "Requirement already satisfied: pyproj in /usr/local/lib/python3.6/dist-packages (from geopandas) (2.1.3)\n",
            "Requirement already satisfied: chardet<3.1.0,>=3.0.2 in /usr/local/lib/python3.6/dist-packages (from requests->folium) (3.0.4)\n",
            "Requirement already satisfied: certifi>=2017.4.17 in /usr/local/lib/python3.6/dist-packages (from requests->folium) (2019.3.9)\n",
            "Requirement already satisfied: urllib3<1.25,>=1.21.1 in /usr/local/lib/python3.6/dist-packages (from requests->folium) (1.24.3)\n",
            "Requirement already satisfied: idna<2.9,>=2.5 in /usr/local/lib/python3.6/dist-packages (from requests->folium) (2.8)\n",
            "Requirement already satisfied: MarkupSafe>=0.23 in /usr/local/lib/python3.6/dist-packages (from jinja2->folium) (1.1.1)\n",
            "Requirement already satisfied: click-plugins>=1.0 in /usr/local/lib/python3.6/dist-packages (from fiona->geopandas) (1.1.1)\n",
            "Requirement already satisfied: munch in /usr/local/lib/python3.6/dist-packages (from fiona->geopandas) (2.3.2)\n",
            "Requirement already satisfied: attrs>=17 in /usr/local/lib/python3.6/dist-packages (from fiona->geopandas) (19.1.0)\n",
            "Requirement already satisfied: cligj>=0.5 in /usr/local/lib/python3.6/dist-packages (from fiona->geopandas) (0.5.0)\n",
            "Requirement already satisfied: click<8,>=4.0 in /usr/local/lib/python3.6/dist-packages (from fiona->geopandas) (7.0)\n",
            "Requirement already satisfied: pytz>=2011k in /usr/local/lib/python3.6/dist-packages (from pandas->geopandas) (2018.9)\n",
            "Requirement already satisfied: python-dateutil>=2.5.0 in /usr/local/lib/python3.6/dist-packages (from pandas->geopandas) (2.5.3)\n"
          ],
          "name": "stdout"
        }
      ]
    },
    {
      "cell_type": "code",
      "metadata": {
        "id": "MWWC1Jrx_8AT",
        "colab_type": "code",
        "outputId": "43a2d7de-59d1-48c2-c245-637ceb3c7a95",
        "colab": {
          "base_uri": "https://localhost:8080/",
          "height": 136
        }
      },
      "source": [
        "#curl -O https://www2.census.gov/geo/tiger/GENZ2015/shp/cb_2015_us_cd114_20m.zip \n",
        "#curl 실패, 주소오류 ,다음에 하기"
      ],
      "execution_count": 0,
      "outputs": [
        {
          "output_type": "error",
          "ename": "SyntaxError",
          "evalue": "ignored",
          "traceback": [
            "\u001b[0;36m  File \u001b[0;32m\"<ipython-input-3-ed39d7e6fa5a>\"\u001b[0;36m, line \u001b[0;32m1\u001b[0m\n\u001b[0;31m    curl -O https://www2.census.gov/geo/tiger/GENZ2015/shp/cb_2015_us_cd114_20m.zip\u001b[0m\n\u001b[0m                ^\u001b[0m\n\u001b[0;31mSyntaxError\u001b[0m\u001b[0;31m:\u001b[0m invalid syntax\n"
          ]
        }
      ]
    },
    {
      "cell_type": "markdown",
      "metadata": {
        "id": "spmaBk0Yk-Gd",
        "colab_type": "text"
      },
      "source": [
        "# Geographic Heatmap in Python with Folium\n",
        "\n",
        "__Python 3.4+__  \n",
        "\n",
        "This notebook has a [companion blog post](https://alcidanalytics.com/p/geographic-heatmap-in-python). In summary it's an example of using folium to generate interactive geographic heatmaps. It also shows how to add arbitrary shapefiles and geojson to leaflet maps with geopandas.\n",
        "\n",
        "<a href=\"https://alcidanalytics.com/p/geographic-heatmap-in-python\"><img src=\"https://github.com/mikecunha/pygeo_heatmap/blob/master/images/geo_heatmap_banner.png?raw=1\"></a>\n",
        "\n",
        "__The tools__: \n",
        "- [folium](https://github.com/python-visualization/folium) a Python library that outputs HTML with leaflet.js maps\n",
        "- [geopandas](geopandas.org) extends the datatypes used by pandas to allow spatial operations on geometric types\n",
        "\n",
        "__The data__: \n",
        "- shapefiles and congressional boundaries from [census.gov](https://www.census.gov/geo/maps-data/)\n",
        "- campaign contribution data from [followthemoney.org](http://www.followthemoney.org/our-data/about-our-data/)"
      ]
    },
    {
      "cell_type": "markdown",
      "metadata": {
        "id": "uX3Bq0Upk-Gh",
        "colab_type": "text"
      },
      "source": [
        "## Load Campaign Contribution Data\n",
        "\n",
        "These data were aggregated from an export from followthemoney.org. How, will be described in a separate notebook and blog post."
      ]
    },
    {
      "cell_type": "code",
      "metadata": {
        "id": "-jx70PF3k-Gj",
        "colab_type": "code",
        "outputId": "7584fe04-eb6c-4f72-a1ca-ffdf36344dec",
        "colab": {
          "base_uri": "https://localhost:8080/",
          "height": 105
        }
      },
      "source": [
        "import pandas as pd \n",
        "\n",
        "for_map = pd.read_csv('./gdrive/My Drive/raw_data/map/결과6.shp.csv', encoding='cp949')# sep='\\t'\n",
        "\n",
        "for_map.columns"
      ],
      "execution_count": 0,
      "outputs": [
        {
          "output_type": "execute_result",
          "data": {
            "text/plain": [
              "Index(['No', 'row ID', 'add', 'result', 'Frequency', 'Expected', 'Deviation',\n",
              "       'Percent', 'Row Percent', 'Column Percent', 'Total Row Count',\n",
              "       'Total Column Count', 'Total Count', 'Cell Chi-Square', 'totaladd',\n",
              "       'lon', 'lat'],\n",
              "      dtype='object')"
            ]
          },
          "metadata": {
            "tags": []
          },
          "execution_count": 2
        }
      ]
    },
    {
      "cell_type": "code",
      "metadata": {
        "id": "QQwmf0b5LGPv",
        "colab_type": "code",
        "outputId": "722bf7b8-9637-4463-ed5b-c37044a0a6b2",
        "colab": {
          "base_uri": "https://localhost:8080/",
          "height": 669
        }
      },
      "source": [
        "for_map.sort_values('Frequency', ascending=False).head()"
      ],
      "execution_count": 0,
      "outputs": [
        {
          "output_type": "execute_result",
          "data": {
            "text/html": [
              "<div>\n",
              "<style scoped>\n",
              "    .dataframe tbody tr th:only-of-type {\n",
              "        vertical-align: middle;\n",
              "    }\n",
              "\n",
              "    .dataframe tbody tr th {\n",
              "        vertical-align: top;\n",
              "    }\n",
              "\n",
              "    .dataframe thead th {\n",
              "        text-align: right;\n",
              "    }\n",
              "</style>\n",
              "<table border=\"1\" class=\"dataframe\">\n",
              "  <thead>\n",
              "    <tr style=\"text-align: right;\">\n",
              "      <th></th>\n",
              "      <th>No</th>\n",
              "      <th>row ID</th>\n",
              "      <th>add</th>\n",
              "      <th>result</th>\n",
              "      <th>Frequency</th>\n",
              "      <th>Expected</th>\n",
              "      <th>Deviation</th>\n",
              "      <th>Percent</th>\n",
              "      <th>Row Percent</th>\n",
              "      <th>Column Percent</th>\n",
              "      <th>Total Row Count</th>\n",
              "      <th>Total Column Count</th>\n",
              "      <th>Total Count</th>\n",
              "      <th>Cell Chi-Square</th>\n",
              "      <th>totaladd</th>\n",
              "      <th>lon</th>\n",
              "      <th>lat</th>\n",
              "    </tr>\n",
              "  </thead>\n",
              "  <tbody>\n",
              "    <tr>\n",
              "      <th>266</th>\n",
              "      <td>1347</td>\n",
              "      <td>Row1349</td>\n",
              "      <td>통영시 산양읍</td>\n",
              "      <td>조류접촉</td>\n",
              "      <td>45</td>\n",
              "      <td>24.373131</td>\n",
              "      <td>20.626869</td>\n",
              "      <td>0.457643</td>\n",
              "      <td>48.387097</td>\n",
              "      <td>1.746217</td>\n",
              "      <td>93</td>\n",
              "      <td>2577</td>\n",
              "      <td>9833</td>\n",
              "      <td>17.456424</td>\n",
              "      <td>통영시 산양읍 연화리324</td>\n",
              "      <td>128.397814</td>\n",
              "      <td>34.779091</td>\n",
              "    </tr>\n",
              "    <tr>\n",
              "      <th>78</th>\n",
              "      <td>405</td>\n",
              "      <td>Row404</td>\n",
              "      <td>마산시 진전면</td>\n",
              "      <td>조류접촉</td>\n",
              "      <td>37</td>\n",
              "      <td>15.462524</td>\n",
              "      <td>21.537476</td>\n",
              "      <td>0.376284</td>\n",
              "      <td>62.711864</td>\n",
              "      <td>1.435778</td>\n",
              "      <td>59</td>\n",
              "      <td>2577</td>\n",
              "      <td>9833</td>\n",
              "      <td>29.999168</td>\n",
              "      <td>창원시 마산합포구 진전면 동산리51</td>\n",
              "      <td>128.392440</td>\n",
              "      <td>35.122358</td>\n",
              "    </tr>\n",
              "    <tr>\n",
              "      <th>89</th>\n",
              "      <td>447</td>\n",
              "      <td>Row446</td>\n",
              "      <td>밀양시 무안면</td>\n",
              "      <td>조류접촉</td>\n",
              "      <td>36</td>\n",
              "      <td>19.393674</td>\n",
              "      <td>16.606326</td>\n",
              "      <td>0.366114</td>\n",
              "      <td>48.648649</td>\n",
              "      <td>1.396973</td>\n",
              "      <td>74</td>\n",
              "      <td>2577</td>\n",
              "      <td>9833</td>\n",
              "      <td>14.219588</td>\n",
              "      <td>밀양시 무안면 동산리564</td>\n",
              "      <td>128.664566</td>\n",
              "      <td>35.535226</td>\n",
              "    </tr>\n",
              "    <tr>\n",
              "      <th>61</th>\n",
              "      <td>310</td>\n",
              "      <td>Row309</td>\n",
              "      <td>마산시 내서읍</td>\n",
              "      <td>조류접촉</td>\n",
              "      <td>34</td>\n",
              "      <td>20.704058</td>\n",
              "      <td>13.295942</td>\n",
              "      <td>0.345774</td>\n",
              "      <td>43.037975</td>\n",
              "      <td>1.319364</td>\n",
              "      <td>79</td>\n",
              "      <td>2577</td>\n",
              "      <td>9833</td>\n",
              "      <td>8.538523</td>\n",
              "      <td>창원시 마산회원구 내서읍 중리632</td>\n",
              "      <td>128.516819</td>\n",
              "      <td>35.250048</td>\n",
              "    </tr>\n",
              "    <tr>\n",
              "      <th>8</th>\n",
              "      <td>48</td>\n",
              "      <td>Row47</td>\n",
              "      <td>거제시 사등면</td>\n",
              "      <td>조류접촉</td>\n",
              "      <td>33</td>\n",
              "      <td>15.724601</td>\n",
              "      <td>17.275399</td>\n",
              "      <td>0.335605</td>\n",
              "      <td>55.000000</td>\n",
              "      <td>1.280559</td>\n",
              "      <td>60</td>\n",
              "      <td>2577</td>\n",
              "      <td>9833</td>\n",
              "      <td>18.979141</td>\n",
              "      <td>거제시 사등면 사곡리243</td>\n",
              "      <td>128.579679</td>\n",
              "      <td>34.898819</td>\n",
              "    </tr>\n",
              "  </tbody>\n",
              "</table>\n",
              "</div>"
            ],
            "text/plain": [
              "       No   row ID    ...             lon        lat\n",
              "266  1347  Row1349    ...      128.397814  34.779091\n",
              "78    405   Row404    ...      128.392440  35.122358\n",
              "89    447   Row446    ...      128.664566  35.535226\n",
              "61    310   Row309    ...      128.516819  35.250048\n",
              "8      48    Row47    ...      128.579679  34.898819\n",
              "\n",
              "[5 rows x 17 columns]"
            ]
          },
          "metadata": {
            "tags": []
          },
          "execution_count": 4
        }
      ]
    },
    {
      "cell_type": "code",
      "metadata": {
        "id": "GsXdtCWqk-Gu",
        "colab_type": "code",
        "outputId": "9da6b313-a9bc-4c0c-812f-5e4191f3bba2",
        "colab": {
          "base_uri": "https://localhost:8080/",
          "height": 404
        }
      },
      "source": [
        "for_map.info()"
      ],
      "execution_count": 0,
      "outputs": [
        {
          "output_type": "stream",
          "text": [
            "<class 'pandas.core.frame.DataFrame'>\n",
            "RangeIndex: 321 entries, 0 to 320\n",
            "Data columns (total 17 columns):\n",
            "No                    321 non-null int64\n",
            "row ID                321 non-null object\n",
            "add                   321 non-null object\n",
            "result                321 non-null object\n",
            "Frequency             321 non-null int64\n",
            "Expected              321 non-null float64\n",
            "Deviation             321 non-null float64\n",
            "Percent               321 non-null float64\n",
            "Row Percent           321 non-null float64\n",
            "Column Percent        321 non-null float64\n",
            "Total Row Count       321 non-null int64\n",
            "Total Column Count    321 non-null int64\n",
            "Total Count           321 non-null int64\n",
            "Cell Chi-Square       321 non-null float64\n",
            "totaladd              321 non-null object\n",
            "lon                   321 non-null float64\n",
            "lat                   321 non-null float64\n",
            "dtypes: float64(8), int64(5), object(4)\n",
            "memory usage: 42.7+ KB\n"
          ],
          "name": "stdout"
        }
      ]
    },
    {
      "cell_type": "markdown",
      "metadata": {
        "id": "INSg9Tmyk-G6",
        "colab_type": "text"
      },
      "source": [
        "## Load 23rd Congr. District Shapefile"
      ]
    },
    {
      "cell_type": "code",
      "metadata": {
        "id": "GYrx_ChTylX_",
        "colab_type": "code",
        "outputId": "16eef2ba-52f7-43a4-c0fc-36db23c7a153",
        "colab": {
          "base_uri": "https://localhost:8080/",
          "height": 175
        }
      },
      "source": [
        "!pip install pyshp"
      ],
      "execution_count": 0,
      "outputs": [
        {
          "output_type": "stream",
          "text": [
            "Collecting pyshp\n",
            "\u001b[?25l  Downloading https://files.pythonhosted.org/packages/27/16/3bf15aa864fb77845fab8007eda22c2bd67bd6c1fd13496df452c8c43621/pyshp-2.1.0.tar.gz (215kB)\n",
            "\r\u001b[K     |█▌                              | 10kB 17.5MB/s eta 0:00:01\r\u001b[K     |███                             | 20kB 2.2MB/s eta 0:00:01\r\u001b[K     |████▋                           | 30kB 3.2MB/s eta 0:00:01\r\u001b[K     |██████                          | 40kB 2.1MB/s eta 0:00:01\r\u001b[K     |███████▋                        | 51kB 2.5MB/s eta 0:00:01\r\u001b[K     |█████████▏                      | 61kB 3.0MB/s eta 0:00:01\r\u001b[K     |██████████▋                     | 71kB 3.5MB/s eta 0:00:01\r\u001b[K     |████████████▏                   | 81kB 4.0MB/s eta 0:00:01\r\u001b[K     |█████████████▊                  | 92kB 4.5MB/s eta 0:00:01\r\u001b[K     |███████████████▏                | 102kB 3.4MB/s eta 0:00:01\r\u001b[K     |████████████████▊               | 112kB 3.4MB/s eta 0:00:01\r\u001b[K     |██████████████████▎             | 122kB 3.4MB/s eta 0:00:01\r\u001b[K     |███████████████████▉            | 133kB 3.4MB/s eta 0:00:01\r\u001b[K     |█████████████████████▎          | 143kB 3.4MB/s eta 0:00:01\r\u001b[K     |██████████████████████▉         | 153kB 3.4MB/s eta 0:00:01\r\u001b[K     |████████████████████████▍       | 163kB 3.4MB/s eta 0:00:01\r\u001b[K     |█████████████████████████▉      | 174kB 3.4MB/s eta 0:00:01\r\u001b[K     |███████████████████████████▍    | 184kB 3.4MB/s eta 0:00:01\r\u001b[K     |█████████████████████████████   | 194kB 3.4MB/s eta 0:00:01\r\u001b[K     |██████████████████████████████▍ | 204kB 3.4MB/s eta 0:00:01\r\u001b[K     |████████████████████████████████| 215kB 3.4MB/s eta 0:00:01\r\u001b[K     |████████████████████████████████| 225kB 3.4MB/s \n",
            "\u001b[?25hBuilding wheels for collected packages: pyshp\n",
            "  Building wheel for pyshp (setup.py) ... \u001b[?25l\u001b[?25hdone\n",
            "  Stored in directory: /root/.cache/pip/wheels/a6/0c/de/321b5192ad416b328975a2f0385f72c64db4656501eba7cc1a\n",
            "Successfully built pyshp\n",
            "Installing collected packages: pyshp\n",
            "Successfully installed pyshp-2.1.0\n"
          ],
          "name": "stdout"
        }
      ]
    },
    {
      "cell_type": "code",
      "metadata": {
        "id": "WjZjfMvrx2DW",
        "colab_type": "code",
        "colab": {}
      },
      "source": [
        "import shapefile\n",
        "from json import dumps\n",
        "\n",
        "# read the shapefile\n",
        "shp_path_node='./gdrive/My Drive/raw_data/map/korea_map/encore/wgs84.shp' #encoding='cp949'\n",
        "reader = shapefile.Reader(shp_path_node)\n",
        "reader.encoding='cp949' #한글로 하기위해 인코딩\n",
        "fields = reader.fields[1:]\n",
        "field_names = [field[0] for field in fields]\n",
        "buffer = []\n",
        "for sr in reader.shapeRecords():\n",
        "    atr = dict(zip(field_names, sr.record))\n",
        "    geom = sr.shape.__geo_interface__\n",
        "    buffer.append(dict(type=\"Feature\", geometry=geom, properties=atr)) \n",
        "\n",
        "    # write the GeoJSON file\n",
        "from json import dumps\n",
        "geojson = open(\"pyshp-demo.json\", \"w\")\n",
        "geojson.write(dumps({\"type\": \"FeatureCollection\", \"features\": buffer}, indent=2) + \"\\n\")\n",
        "geojson.close()  # 한덩어리를 buffer로 뭉쳐서 for문을 돌려라가 jason형식임"
      ],
      "execution_count": 0,
      "outputs": []
    },
    {
      "cell_type": "code",
      "metadata": {
        "id": "BsbpIxqAk-G8",
        "colab_type": "code",
        "outputId": "2e43e90a-3802-4600-9a95-18bb23c42bc7",
        "colab": {
          "base_uri": "https://localhost:8080/",
          "height": 547
        }
      },
      "source": [
        "!pip install geopandas\n",
        "import geopandas as gpd\n",
        "import folium\n",
        "\n",
        "#congr_districts = gpd.read_file('pyshp-demo.json')\n",
        "#congr_districts = gpd.read_file('zip://gdrive/My Drive/raw_data/map/korea_map/heatmap/SIG_201902.zip')\n",
        "congr_districts = gpd.read_file('zip://gdrive/My Drive/raw_data/map/pygeo_heatmap-master/data/cb_2015_us_cd114_20m.zip')\n",
        "#congr_districts = gpd.read_file('zip://'+'data/cb_2015_us_cd114_20m.zip') 원문\n",
        "# Set datum and projection info for census.gov 2015 Tiger data\n",
        "\n",
        "\n",
        "#WGS84 위도 / 경도 : 또는\n",
        "#\"+proj=longlat +ellps=WGS84 +datum=WGS84 +no_defs\"\"+init=epsg:4326\"\n",
        "\n",
        "#congr_districts.crs = {'datum': 'WGS84', 'ellps': 'WGS84', 'proj':'longlat', 'no_defs':\"\"} #공간조인과 투영을 위해\n",
        "congr_districts.crs = {'datum': 'NAD83', 'ellps': 'GRS80', 'proj':'longlat', 'no_defs':True}\n",
        "\n",
        "# Filter out all but the district of interest\n",
        "district23 = congr_districts[ congr_districts.GEOID == '3623' ]\n",
        "#district23 = congr_districts[ congr_districts.GEOID == '3623' ]  # 36 = NY, 23 = District 35.238572,128.692463 \n",
        "#NY 관련해서 없애고 싶은데 못없애고 있음."
      ],
      "execution_count": 0,
      "outputs": [
        {
          "output_type": "stream",
          "text": [
            "Collecting geopandas\n",
            "\u001b[?25l  Downloading https://files.pythonhosted.org/packages/74/42/f4b147fc7920998a42046d0c2e65e61000bc5d104f1f8aec719612cb2fc8/geopandas-0.5.0-py2.py3-none-any.whl (893kB)\n",
            "\u001b[K     |████████████████████████████████| 901kB 3.4MB/s \n",
            "\u001b[?25hCollecting fiona (from geopandas)\n",
            "\u001b[?25l  Downloading https://files.pythonhosted.org/packages/89/4a/193cd6a75e51062c85f4e1cd6f312b3bbda6e26ba7510f152ef5016f0b16/Fiona-1.8.6-cp36-cp36m-manylinux1_x86_64.whl (17.9MB)\n",
            "\u001b[K     |████████████████████████████████| 17.9MB 50.3MB/s \n",
            "\u001b[?25hRequirement already satisfied: shapely in /usr/local/lib/python3.6/dist-packages (from geopandas) (1.6.4.post2)\n",
            "Requirement already satisfied: pandas in /usr/local/lib/python3.6/dist-packages (from geopandas) (0.23.4)\n",
            "Collecting pyproj (from geopandas)\n",
            "\u001b[?25l  Downloading https://files.pythonhosted.org/packages/ac/1a/81ef33d97354eb7d1765a921ecaf2ece41fd7927937b7c74124b6a2a0d99/pyproj-2.2.0-cp36-cp36m-manylinux1_x86_64.whl (11.2MB)\n",
            "\u001b[K     |████████████████████████████████| 11.2MB 33.8MB/s \n",
            "\u001b[?25hCollecting click-plugins>=1.0 (from fiona->geopandas)\n",
            "  Downloading https://files.pythonhosted.org/packages/e9/da/824b92d9942f4e472702488857914bdd50f73021efea15b4cad9aca8ecef/click_plugins-1.1.1-py2.py3-none-any.whl\n",
            "Requirement already satisfied: attrs>=17 in /usr/local/lib/python3.6/dist-packages (from fiona->geopandas) (19.1.0)\n",
            "Collecting cligj>=0.5 (from fiona->geopandas)\n",
            "  Downloading https://files.pythonhosted.org/packages/e4/be/30a58b4b0733850280d01f8bd132591b4668ed5c7046761098d665ac2174/cligj-0.5.0-py3-none-any.whl\n",
            "Collecting munch (from fiona->geopandas)\n",
            "  Downloading https://files.pythonhosted.org/packages/68/f4/260ec98ea840757a0da09e0ed8135333d59b8dfebe9752a365b04857660a/munch-2.3.2.tar.gz\n",
            "Requirement already satisfied: click<8,>=4.0 in /usr/local/lib/python3.6/dist-packages (from fiona->geopandas) (7.0)\n",
            "Requirement already satisfied: six>=1.7 in /usr/local/lib/python3.6/dist-packages (from fiona->geopandas) (1.12.0)\n",
            "Requirement already satisfied: pytz>=2011k in /usr/local/lib/python3.6/dist-packages (from pandas->geopandas) (2018.9)\n",
            "Requirement already satisfied: numpy>=1.9.0 in /usr/local/lib/python3.6/dist-packages (from pandas->geopandas) (1.16.4)\n",
            "Requirement already satisfied: python-dateutil>=2.5.0 in /usr/local/lib/python3.6/dist-packages (from pandas->geopandas) (2.5.3)\n",
            "Building wheels for collected packages: munch\n",
            "  Building wheel for munch (setup.py) ... \u001b[?25l\u001b[?25hdone\n",
            "  Stored in directory: /root/.cache/pip/wheels/db/bf/bc/06a3e1bfe0ab27d2e720ceb3cff3159398d92644c0cec2c125\n",
            "Successfully built munch\n",
            "Installing collected packages: click-plugins, cligj, munch, fiona, pyproj, geopandas\n",
            "Successfully installed click-plugins-1.1.1 cligj-0.5.0 fiona-1.8.6 geopandas-0.5.0 munch-2.3.2 pyproj-2.2.0\n"
          ],
          "name": "stdout"
        }
      ]
    },
    {
      "cell_type": "markdown",
      "metadata": {
        "id": "xLiCuEWjk-HC",
        "colab_type": "text"
      },
      "source": [
        "Initialize a folium map and see what the default crs data is in case we need to convert the shapefile we loaded"
      ]
    },
    {
      "cell_type": "code",
      "metadata": {
        "id": "ufjOKLfdk-HE",
        "colab_type": "code",
        "outputId": "278d3cf2-cad1-471f-d3c3-33b72f4c6ac4",
        "colab": {
          "base_uri": "https://localhost:8080/",
          "height": 34
        }
      },
      "source": [
        "distric_map = folium.Map(location=[35.238572,128.692463], zoom_start=7, tiles='cartodbpositron' )\n",
        "print('default map crs: ',distric_map.crs) #아마 여기서 기본 맵을 바꿀수 있을것 같은데 맵 배경화면을 어떻게 바꿀지.."
      ],
      "execution_count": 0,
      "outputs": [
        {
          "output_type": "stream",
          "text": [
            "default map crs:  EPSG3857\n"
          ],
          "name": "stdout"
        }
      ]
    },
    {
      "cell_type": "code",
      "metadata": {
        "id": "bUhE839Ik-HS",
        "colab_type": "code",
        "colab": {}
      },
      "source": [
        "# convert it to the projection of our folium openstreetmap\n",
        "district23 = district23.to_crs({'init':'epsg:3857'})  "
      ],
      "execution_count": 0,
      "outputs": []
    },
    {
      "cell_type": "markdown",
      "metadata": {
        "id": "HVY3yYYGYWtV",
        "colab_type": "text"
      },
      "source": [
        ""
      ]
    },
    {
      "cell_type": "markdown",
      "metadata": {
        "id": "L6DsDhPHk-He",
        "colab_type": "text"
      },
      "source": [
        "Try plotting the congressional district boundary.\n",
        "\n",
        "(Leaflet.js maps don't render in github notebook previews, [check out the blog post](https://alcidanalytics.com/p/geographic-heatmap-in-python) if you want to see the live interactive maps without having to run this notebook)"
      ]
    },
    {
      "cell_type": "code",
      "metadata": {
        "id": "G8oLDMBHk-Hg",
        "colab_type": "code",
        "outputId": "ae5bda52-983f-4de0-a3d9-dd48cb7792d9",
        "colab": {
          "base_uri": "https://localhost:8080/",
          "height": 698
        }
      },
      "source": [
        "folium.GeoJson(district23).add_to(distric_map)\n",
        "distric_map"
      ],
      "execution_count": 0,
      "outputs": [
        {
          "output_type": "execute_result",
          "data": {
            "text/html": [
              "<div style=\"width:100%;\"><div style=\"position:relative;width:100%;height:0;padding-bottom:60%;\"><iframe src=\"data:text/html;charset=utf-8;base64,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\" style=\"position:absolute;width:100%;height:100%;left:0;top:0;border:none !important;\" allowfullscreen webkitallowfullscreen mozallowfullscreen></iframe></div></div>"
            ],
            "text/plain": [
              "<folium.folium.Map at 0x7f69bc0a6b38>"
            ]
          },
          "metadata": {
            "tags": []
          },
          "execution_count": 22
        }
      ]
    },
    {
      "cell_type": "markdown",
      "metadata": {
        "id": "XQtRen62k-Hs",
        "colab_type": "text"
      },
      "source": [
        "## Heatmap"
      ]
    },
    {
      "cell_type": "code",
      "metadata": {
        "id": "tfSQ45ltk-Ht",
        "colab_type": "code",
        "outputId": "43bb30e6-d1b2-487f-ce7c-3477f90e91e4",
        "colab": {
          "base_uri": "https://localhost:8080/",
          "height": 698
        }
      },
      "source": [
        "import folium\n",
        "from folium.plugins import HeatMap\n",
        "\n",
        "max_amount = float(for_map['Frequency'].max())\n",
        "\n",
        "hmap = folium.Map(location=[35.238572,128.692463], zoom_start=10, )\n",
        "#hmap = folium.Map(location=[41.0, -75.5], zoom_start=7, )\n",
        "\n",
        "#hm_wide = HeatMap( list(zip(for_map.\"위도\".values, for_map.\"경도\".values, for_map.Frequency.values)),\n",
        "hm_wide = HeatMap( list(zip(for_map.lat.values, for_map.lon.values, for_map.Frequency.values)), \n",
        "                   min_opacity=0.2,\n",
        "                   max_val=max_amount,\n",
        "                   radius=17, blur=15, \n",
        "                   max_zoom=1, \n",
        "                 )\n",
        "\n",
        "folium.GeoJson(district23).add_to(hmap)\n",
        "hmap.add_child(hm_wide)"
      ],
      "execution_count": 0,
      "outputs": [
        {
          "output_type": "execute_result",
          "data": {
            "text/html": [
              "<div style=\"width:100%;\"><div style=\"position:relative;width:100%;height:0;padding-bottom:60%;\"><iframe src=\"data:text/html;charset=utf-8;base64,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\" style=\"position:absolute;width:100%;height:100%;left:0;top:0;border:none !important;\" allowfullscreen webkitallowfullscreen mozallowfullscreen></iframe></div></div>"
            ],
            "text/plain": [
              "<folium.folium.Map at 0x7f69b4da6f28>"
            ]
          },
          "metadata": {
            "tags": []
          },
          "execution_count": 23
        }
      ]
    },
    {
      "cell_type": "code",
      "metadata": {
        "id": "voSWjy5ck-H3",
        "colab_type": "code",
        "colab": {}
      },
      "source": [
        "import os\n",
        "hmap.save(os.path.join('./gdrive/My Drive/result', 'shortblackout_bird2.html'))"
      ],
      "execution_count": 0,
      "outputs": []
    },
    {
      "cell_type": "markdown",
      "metadata": {
        "id": "VFC7QuBSk-H_",
        "colab_type": "text"
      },
      "source": [
        "# Saving png's of Folium Maps\n",
        "\n",
        "https://github.com/python-visualization/folium/issues/35\n",
        "\n",
        "These aren't tested, just pasted here as a starting point should someone need them.\n",
        "\n",
        "\n",
        "PNG로도 만들고 싶은데 못만들어서 포기했습니다."
      ]
    },
    {
      "cell_type": "markdown",
      "metadata": {
        "id": "sA7LeZxik-IE",
        "colab_type": "text"
      },
      "source": [
        "### Using cutycapt"
      ]
    },
    {
      "cell_type": "code",
      "metadata": {
        "id": "AljOOpGRk-IG",
        "colab_type": "code",
        "outputId": "572f59a4-ff7c-4771-abe6-ac8fa0246c5d",
        "colab": {
          "base_uri": "https://localhost:8080/",
          "height": 371
        }
      },
      "source": [
        "import os\n",
        "import subprocess\n",
        "outdir = \"zip://gdrive/My Drive/raw_data/map/pygeo_heatmap-master/results\" # this directory has to exist..\n",
        "#hmap.save(\"tmp.html\")  # heatmap saved above\n",
        "url = \"file://{}/results/geo_heatmap1.html\".format(os.getcwd())\n",
        "outfn = os.path.join(outdir,\"geo_heatmap1.png\")\n",
        "\n",
        "subprocess.check_call([\"cutycapt\",\"--url={}\".format(url), \"--out={}\".format(outfn)])"
      ],
      "execution_count": 0,
      "outputs": [
        {
          "output_type": "error",
          "ename": "FileNotFoundError",
          "evalue": "ignored",
          "traceback": [
            "\u001b[0;31m---------------------------------------------------------------------------\u001b[0m",
            "\u001b[0;31mFileNotFoundError\u001b[0m                         Traceback (most recent call last)",
            "\u001b[0;32m<ipython-input-25-647a676a085b>\u001b[0m in \u001b[0;36m<module>\u001b[0;34m()\u001b[0m\n\u001b[1;32m      6\u001b[0m \u001b[0moutfn\u001b[0m \u001b[0;34m=\u001b[0m \u001b[0mos\u001b[0m\u001b[0;34m.\u001b[0m\u001b[0mpath\u001b[0m\u001b[0;34m.\u001b[0m\u001b[0mjoin\u001b[0m\u001b[0;34m(\u001b[0m\u001b[0moutdir\u001b[0m\u001b[0;34m,\u001b[0m\u001b[0;34m\"geo_heatmap1.png\"\u001b[0m\u001b[0;34m)\u001b[0m\u001b[0;34m\u001b[0m\u001b[0;34m\u001b[0m\u001b[0m\n\u001b[1;32m      7\u001b[0m \u001b[0;34m\u001b[0m\u001b[0m\n\u001b[0;32m----> 8\u001b[0;31m \u001b[0msubprocess\u001b[0m\u001b[0;34m.\u001b[0m\u001b[0mcheck_call\u001b[0m\u001b[0;34m(\u001b[0m\u001b[0;34m[\u001b[0m\u001b[0;34m\"cutycapt\"\u001b[0m\u001b[0;34m,\u001b[0m\u001b[0;34m\"--url={}\"\u001b[0m\u001b[0;34m.\u001b[0m\u001b[0mformat\u001b[0m\u001b[0;34m(\u001b[0m\u001b[0murl\u001b[0m\u001b[0;34m)\u001b[0m\u001b[0;34m,\u001b[0m \u001b[0;34m\"--out={}\"\u001b[0m\u001b[0;34m.\u001b[0m\u001b[0mformat\u001b[0m\u001b[0;34m(\u001b[0m\u001b[0moutfn\u001b[0m\u001b[0;34m)\u001b[0m\u001b[0;34m]\u001b[0m\u001b[0;34m)\u001b[0m\u001b[0;34m\u001b[0m\u001b[0;34m\u001b[0m\u001b[0m\n\u001b[0m",
            "\u001b[0;32m/usr/lib/python3.6/subprocess.py\u001b[0m in \u001b[0;36mcheck_call\u001b[0;34m(*popenargs, **kwargs)\u001b[0m\n\u001b[1;32m    284\u001b[0m     \u001b[0mcheck_call\u001b[0m\u001b[0;34m(\u001b[0m\u001b[0;34m[\u001b[0m\u001b[0;34m\"ls\"\u001b[0m\u001b[0;34m,\u001b[0m \u001b[0;34m\"-l\"\u001b[0m\u001b[0;34m]\u001b[0m\u001b[0;34m)\u001b[0m\u001b[0;34m\u001b[0m\u001b[0;34m\u001b[0m\u001b[0m\n\u001b[1;32m    285\u001b[0m     \"\"\"\n\u001b[0;32m--> 286\u001b[0;31m     \u001b[0mretcode\u001b[0m \u001b[0;34m=\u001b[0m \u001b[0mcall\u001b[0m\u001b[0;34m(\u001b[0m\u001b[0;34m*\u001b[0m\u001b[0mpopenargs\u001b[0m\u001b[0;34m,\u001b[0m \u001b[0;34m**\u001b[0m\u001b[0mkwargs\u001b[0m\u001b[0;34m)\u001b[0m\u001b[0;34m\u001b[0m\u001b[0;34m\u001b[0m\u001b[0m\n\u001b[0m\u001b[1;32m    287\u001b[0m     \u001b[0;32mif\u001b[0m \u001b[0mretcode\u001b[0m\u001b[0;34m:\u001b[0m\u001b[0;34m\u001b[0m\u001b[0;34m\u001b[0m\u001b[0m\n\u001b[1;32m    288\u001b[0m         \u001b[0mcmd\u001b[0m \u001b[0;34m=\u001b[0m \u001b[0mkwargs\u001b[0m\u001b[0;34m.\u001b[0m\u001b[0mget\u001b[0m\u001b[0;34m(\u001b[0m\u001b[0;34m\"args\"\u001b[0m\u001b[0;34m)\u001b[0m\u001b[0;34m\u001b[0m\u001b[0;34m\u001b[0m\u001b[0m\n",
            "\u001b[0;32m/usr/lib/python3.6/subprocess.py\u001b[0m in \u001b[0;36mcall\u001b[0;34m(timeout, *popenargs, **kwargs)\u001b[0m\n\u001b[1;32m    265\u001b[0m     \u001b[0mretcode\u001b[0m \u001b[0;34m=\u001b[0m \u001b[0mcall\u001b[0m\u001b[0;34m(\u001b[0m\u001b[0;34m[\u001b[0m\u001b[0;34m\"ls\"\u001b[0m\u001b[0;34m,\u001b[0m \u001b[0;34m\"-l\"\u001b[0m\u001b[0;34m]\u001b[0m\u001b[0;34m)\u001b[0m\u001b[0;34m\u001b[0m\u001b[0;34m\u001b[0m\u001b[0m\n\u001b[1;32m    266\u001b[0m     \"\"\"\n\u001b[0;32m--> 267\u001b[0;31m     \u001b[0;32mwith\u001b[0m \u001b[0mPopen\u001b[0m\u001b[0;34m(\u001b[0m\u001b[0;34m*\u001b[0m\u001b[0mpopenargs\u001b[0m\u001b[0;34m,\u001b[0m \u001b[0;34m**\u001b[0m\u001b[0mkwargs\u001b[0m\u001b[0;34m)\u001b[0m \u001b[0;32mas\u001b[0m \u001b[0mp\u001b[0m\u001b[0;34m:\u001b[0m\u001b[0;34m\u001b[0m\u001b[0;34m\u001b[0m\u001b[0m\n\u001b[0m\u001b[1;32m    268\u001b[0m         \u001b[0;32mtry\u001b[0m\u001b[0;34m:\u001b[0m\u001b[0;34m\u001b[0m\u001b[0;34m\u001b[0m\u001b[0m\n\u001b[1;32m    269\u001b[0m             \u001b[0;32mreturn\u001b[0m \u001b[0mp\u001b[0m\u001b[0;34m.\u001b[0m\u001b[0mwait\u001b[0m\u001b[0;34m(\u001b[0m\u001b[0mtimeout\u001b[0m\u001b[0;34m=\u001b[0m\u001b[0mtimeout\u001b[0m\u001b[0;34m)\u001b[0m\u001b[0;34m\u001b[0m\u001b[0;34m\u001b[0m\u001b[0m\n",
            "\u001b[0;32m/usr/lib/python3.6/subprocess.py\u001b[0m in \u001b[0;36m__init__\u001b[0;34m(self, args, bufsize, executable, stdin, stdout, stderr, preexec_fn, close_fds, shell, cwd, env, universal_newlines, startupinfo, creationflags, restore_signals, start_new_session, pass_fds, encoding, errors)\u001b[0m\n\u001b[1;32m    707\u001b[0m                                 \u001b[0mc2pread\u001b[0m\u001b[0;34m,\u001b[0m \u001b[0mc2pwrite\u001b[0m\u001b[0;34m,\u001b[0m\u001b[0;34m\u001b[0m\u001b[0;34m\u001b[0m\u001b[0m\n\u001b[1;32m    708\u001b[0m                                 \u001b[0merrread\u001b[0m\u001b[0;34m,\u001b[0m \u001b[0merrwrite\u001b[0m\u001b[0;34m,\u001b[0m\u001b[0;34m\u001b[0m\u001b[0;34m\u001b[0m\u001b[0m\n\u001b[0;32m--> 709\u001b[0;31m                                 restore_signals, start_new_session)\n\u001b[0m\u001b[1;32m    710\u001b[0m         \u001b[0;32mexcept\u001b[0m\u001b[0;34m:\u001b[0m\u001b[0;34m\u001b[0m\u001b[0;34m\u001b[0m\u001b[0m\n\u001b[1;32m    711\u001b[0m             \u001b[0;31m# Cleanup if the child failed starting.\u001b[0m\u001b[0;34m\u001b[0m\u001b[0;34m\u001b[0m\u001b[0;34m\u001b[0m\u001b[0m\n",
            "\u001b[0;32m/usr/lib/python3.6/subprocess.py\u001b[0m in \u001b[0;36m_execute_child\u001b[0;34m(self, args, executable, preexec_fn, close_fds, pass_fds, cwd, env, startupinfo, creationflags, shell, p2cread, p2cwrite, c2pread, c2pwrite, errread, errwrite, restore_signals, start_new_session)\u001b[0m\n\u001b[1;32m   1342\u001b[0m                         \u001b[0;32mif\u001b[0m \u001b[0merrno_num\u001b[0m \u001b[0;34m==\u001b[0m \u001b[0merrno\u001b[0m\u001b[0;34m.\u001b[0m\u001b[0mENOENT\u001b[0m\u001b[0;34m:\u001b[0m\u001b[0;34m\u001b[0m\u001b[0;34m\u001b[0m\u001b[0m\n\u001b[1;32m   1343\u001b[0m                             \u001b[0merr_msg\u001b[0m \u001b[0;34m+=\u001b[0m \u001b[0;34m': '\u001b[0m \u001b[0;34m+\u001b[0m \u001b[0mrepr\u001b[0m\u001b[0;34m(\u001b[0m\u001b[0merr_filename\u001b[0m\u001b[0;34m)\u001b[0m\u001b[0;34m\u001b[0m\u001b[0;34m\u001b[0m\u001b[0m\n\u001b[0;32m-> 1344\u001b[0;31m                     \u001b[0;32mraise\u001b[0m \u001b[0mchild_exception_type\u001b[0m\u001b[0;34m(\u001b[0m\u001b[0merrno_num\u001b[0m\u001b[0;34m,\u001b[0m \u001b[0merr_msg\u001b[0m\u001b[0;34m,\u001b[0m \u001b[0merr_filename\u001b[0m\u001b[0;34m)\u001b[0m\u001b[0;34m\u001b[0m\u001b[0;34m\u001b[0m\u001b[0m\n\u001b[0m\u001b[1;32m   1345\u001b[0m                 \u001b[0;32mraise\u001b[0m \u001b[0mchild_exception_type\u001b[0m\u001b[0;34m(\u001b[0m\u001b[0merr_msg\u001b[0m\u001b[0;34m)\u001b[0m\u001b[0;34m\u001b[0m\u001b[0;34m\u001b[0m\u001b[0m\n\u001b[1;32m   1346\u001b[0m \u001b[0;34m\u001b[0m\u001b[0m\n",
            "\u001b[0;31mFileNotFoundError\u001b[0m: [Errno 2] No such file or directory: 'cutycapt': 'cutycapt'"
          ]
        }
      ]
    },
    {
      "cell_type": "markdown",
      "metadata": {
        "id": "ENlGgx6Nk-IS",
        "colab_type": "text"
      },
      "source": [
        "### Using selenium"
      ]
    },
    {
      "cell_type": "code",
      "metadata": {
        "id": "aiCNcmCfgkdM",
        "colab_type": "code",
        "outputId": "e905b2e0-f385-493d-d9f0-45ce4818f6c4",
        "colab": {
          "base_uri": "https://localhost:8080/",
          "height": 35
        }
      },
      "source": [
        "pip webdriver"
      ],
      "execution_count": 0,
      "outputs": [
        {
          "output_type": "stream",
          "text": [
            "ERROR: unknown command \"webdriver\"\n"
          ],
          "name": "stdout"
        }
      ]
    },
    {
      "cell_type": "code",
      "metadata": {
        "id": "BrScoWGSk-IV",
        "colab_type": "code",
        "outputId": "2d63e43d-2c04-40c6-e942-dea4ec13692d",
        "colab": {
          "base_uri": "https://localhost:8080/",
          "height": 388
        }
      },
      "source": [
        "import os\n",
        "import time\n",
        "from selenium import webdriver\n",
        "\n",
        "fn = os.path.join('results', 'geo_heatmap.html')\n",
        "tmpurl='file://{path}/{mapfile}'.format(path=os.getcwd(),mapfile=fn)\n",
        "#hmap.save(\"tmp.html\")  # heatmap saved above\n",
        "\n",
        "browser = webdriver.Firefox()\n",
        "browser.get(tmpurl)\n",
        "time.sleep(5)  #Give the map tiles some time to load\n",
        "browser.save_screenshot('geo_heatmap.png')\n",
        "browser.quit()"
      ],
      "execution_count": 0,
      "outputs": [
        {
          "output_type": "error",
          "ename": "ModuleNotFoundError",
          "evalue": "ignored",
          "traceback": [
            "\u001b[0;31m---------------------------------------------------------------------------\u001b[0m",
            "\u001b[0;31mModuleNotFoundError\u001b[0m                       Traceback (most recent call last)",
            "\u001b[0;32m<ipython-input-47-c2910a0d73e1>\u001b[0m in \u001b[0;36m<module>\u001b[0;34m()\u001b[0m\n\u001b[1;32m      1\u001b[0m \u001b[0;32mimport\u001b[0m \u001b[0mos\u001b[0m\u001b[0;34m\u001b[0m\u001b[0;34m\u001b[0m\u001b[0m\n\u001b[1;32m      2\u001b[0m \u001b[0;32mimport\u001b[0m \u001b[0mtime\u001b[0m\u001b[0;34m\u001b[0m\u001b[0;34m\u001b[0m\u001b[0m\n\u001b[0;32m----> 3\u001b[0;31m \u001b[0;32mfrom\u001b[0m \u001b[0mselenium\u001b[0m \u001b[0;32mimport\u001b[0m \u001b[0mwebdriver\u001b[0m\u001b[0;34m\u001b[0m\u001b[0;34m\u001b[0m\u001b[0m\n\u001b[0m\u001b[1;32m      4\u001b[0m \u001b[0;34m\u001b[0m\u001b[0m\n\u001b[1;32m      5\u001b[0m \u001b[0mfn\u001b[0m \u001b[0;34m=\u001b[0m \u001b[0mos\u001b[0m\u001b[0;34m.\u001b[0m\u001b[0mpath\u001b[0m\u001b[0;34m.\u001b[0m\u001b[0mjoin\u001b[0m\u001b[0;34m(\u001b[0m\u001b[0;34m'results'\u001b[0m\u001b[0;34m,\u001b[0m \u001b[0;34m'geo_heatmap.html'\u001b[0m\u001b[0;34m)\u001b[0m\u001b[0;34m\u001b[0m\u001b[0;34m\u001b[0m\u001b[0m\n",
            "\u001b[0;31mModuleNotFoundError\u001b[0m: No module named 'selenium'",
            "",
            "\u001b[0;31m---------------------------------------------------------------------------\u001b[0;32m\nNOTE: If your import is failing due to a missing package, you can\nmanually install dependencies using either !pip or !apt.\n\nTo view examples of installing some common dependencies, click the\n\"Open Examples\" button below.\n\u001b[0;31m---------------------------------------------------------------------------\u001b[0m\n"
          ]
        }
      ]
    },
    {
      "cell_type": "code",
      "metadata": {
        "id": "-16nym_8k-Ic",
        "colab_type": "code",
        "colab": {}
      },
      "source": [
        ""
      ],
      "execution_count": 0,
      "outputs": []
    },
    {
      "cell_type": "code",
      "metadata": {
        "id": "ywYezCv0k-Ij",
        "colab_type": "code",
        "colab": {}
      },
      "source": [
        ""
      ],
      "execution_count": 0,
      "outputs": []
    }
  ]
}